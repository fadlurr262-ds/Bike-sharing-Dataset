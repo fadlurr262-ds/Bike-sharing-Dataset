{
  "cells": [
    {
      "cell_type": "markdown",
      "metadata": {
        "id": "H9wADwK78DCz"
      },
      "source": [
        "# Proyek Analisis Data: [Bike-sharing Dataset]\n",
        "- **Nama:** Fadlur Rahman\n",
        "- **Email:** digitalcipta262@gmail.com"
      ]
    },
    {
      "cell_type": "markdown",
      "metadata": {
        "id": "eE0raob58DC0"
      },
      "source": [
        "## Menentukan Pertanyaan Bisnis"
      ]
    },
    {
      "cell_type": "markdown",
      "metadata": {
        "id": "GmQeQ5YF8DC0"
      },
      "source": [
        "1. Bagaimana jumlah penyewaan sepeda berubah pada setiap musim selama tahun 2011 - 2012?\n",
        "2. Bagaimana perbedaan pola penyewaan sepeda antara pengguna casual dan registered setiap bulan selama tahun 2012, dan strategi apa yang dirancang berdasarkan perbedaan pola tersebut?\n",
        "3. Bagaimana pola penyewaan sepeda terhadap periode waktu selama tiga bulan terakhir, dan periode waktu manakah yang konsisten menunjukkan permintaan tertinggi?"
      ]
    },
    {
      "cell_type": "markdown",
      "metadata": {
        "id": "H-z4QGlO8DC1"
      },
      "source": [
        "## Import Semua Packages/Library yang Digunakan"
      ]
    },
    {
      "cell_type": "code",
      "execution_count": 7,
      "metadata": {
        "id": "FVYwaObI8DC1"
      },
      "outputs": [],
      "source": [
        "import pandas as pd\n",
        "import numpy as np\n",
        "import matplotlib.pyplot as plt"
      ]
    },
    {
      "cell_type": "markdown",
      "metadata": {
        "id": "h_Sh51Xy8DC1"
      },
      "source": [
        "## Data Wrangling"
      ]
    },
    {
      "cell_type": "markdown",
      "metadata": {
        "id": "sXU2GBYu8DC1"
      },
      "source": [
        "### Gathering Data"
      ]
    },
    {
      "cell_type": "code",
      "execution_count": 8,
      "metadata": {
        "id": "zjCBk1BI8DC1"
      },
      "outputs": [],
      "source": [
        "day = pd.read_csv(\"Submission/data/day.csv\")\n",
        "hour = pd.read_csv(\"Submission/data/hour.csv\")"
      ]
    },
    {
      "cell_type": "markdown",
      "metadata": {
        "id": "MMi6xGaDkbCi"
      },
      "source": [
        "**Insight:**\n",
        "- Mengumpulkan data day\n",
        "- Mengumpulkan data hour"
      ]
    },
    {
      "cell_type": "markdown",
      "metadata": {
        "id": "FHSiqaZp8DC1"
      },
      "source": [
        "### Assessing Data"
      ]
    },
    {
      "cell_type": "code",
      "execution_count": 9,
      "metadata": {
        "id": "ax-3tEjc9Cj1"
      },
      "outputs": [
        {
          "name": "stdout",
          "output_type": "stream",
          "text": [
            "<class 'pandas.core.frame.DataFrame'>\n",
            "RangeIndex: 731 entries, 0 to 730\n",
            "Data columns (total 16 columns):\n",
            " #   Column      Non-Null Count  Dtype  \n",
            "---  ------      --------------  -----  \n",
            " 0   instant     731 non-null    int64  \n",
            " 1   dteday      731 non-null    object \n",
            " 2   season      731 non-null    int64  \n",
            " 3   yr          731 non-null    int64  \n",
            " 4   mnth        731 non-null    int64  \n",
            " 5   holiday     731 non-null    int64  \n",
            " 6   weekday     731 non-null    int64  \n",
            " 7   workingday  731 non-null    int64  \n",
            " 8   weathersit  731 non-null    int64  \n",
            " 9   temp        731 non-null    float64\n",
            " 10  atemp       731 non-null    float64\n",
            " 11  hum         731 non-null    float64\n",
            " 12  windspeed   731 non-null    float64\n",
            " 13  casual      731 non-null    int64  \n",
            " 14  registered  731 non-null    int64  \n",
            " 15  cnt         731 non-null    int64  \n",
            "dtypes: float64(4), int64(11), object(1)\n",
            "memory usage: 91.5+ KB\n"
          ]
        },
        {
          "data": {
            "text/html": [
              "<div>\n",
              "<style scoped>\n",
              "    .dataframe tbody tr th:only-of-type {\n",
              "        vertical-align: middle;\n",
              "    }\n",
              "\n",
              "    .dataframe tbody tr th {\n",
              "        vertical-align: top;\n",
              "    }\n",
              "\n",
              "    .dataframe thead th {\n",
              "        text-align: right;\n",
              "    }\n",
              "</style>\n",
              "<table border=\"1\" class=\"dataframe\">\n",
              "  <thead>\n",
              "    <tr style=\"text-align: right;\">\n",
              "      <th></th>\n",
              "      <th>instant</th>\n",
              "      <th>season</th>\n",
              "      <th>yr</th>\n",
              "      <th>mnth</th>\n",
              "      <th>holiday</th>\n",
              "      <th>weekday</th>\n",
              "      <th>workingday</th>\n",
              "      <th>weathersit</th>\n",
              "      <th>temp</th>\n",
              "      <th>atemp</th>\n",
              "      <th>hum</th>\n",
              "      <th>windspeed</th>\n",
              "      <th>casual</th>\n",
              "      <th>registered</th>\n",
              "      <th>cnt</th>\n",
              "    </tr>\n",
              "  </thead>\n",
              "  <tbody>\n",
              "    <tr>\n",
              "      <th>count</th>\n",
              "      <td>731.000000</td>\n",
              "      <td>731.000000</td>\n",
              "      <td>731.000000</td>\n",
              "      <td>731.000000</td>\n",
              "      <td>731.000000</td>\n",
              "      <td>731.000000</td>\n",
              "      <td>731.000000</td>\n",
              "      <td>731.000000</td>\n",
              "      <td>731.000000</td>\n",
              "      <td>731.000000</td>\n",
              "      <td>731.000000</td>\n",
              "      <td>731.000000</td>\n",
              "      <td>731.000000</td>\n",
              "      <td>731.000000</td>\n",
              "      <td>731.000000</td>\n",
              "    </tr>\n",
              "    <tr>\n",
              "      <th>mean</th>\n",
              "      <td>366.000000</td>\n",
              "      <td>2.496580</td>\n",
              "      <td>0.500684</td>\n",
              "      <td>6.519836</td>\n",
              "      <td>0.028728</td>\n",
              "      <td>2.997264</td>\n",
              "      <td>0.683995</td>\n",
              "      <td>1.395349</td>\n",
              "      <td>0.495385</td>\n",
              "      <td>0.474354</td>\n",
              "      <td>0.627894</td>\n",
              "      <td>0.190486</td>\n",
              "      <td>848.176471</td>\n",
              "      <td>3656.172367</td>\n",
              "      <td>4504.348837</td>\n",
              "    </tr>\n",
              "    <tr>\n",
              "      <th>std</th>\n",
              "      <td>211.165812</td>\n",
              "      <td>1.110807</td>\n",
              "      <td>0.500342</td>\n",
              "      <td>3.451913</td>\n",
              "      <td>0.167155</td>\n",
              "      <td>2.004787</td>\n",
              "      <td>0.465233</td>\n",
              "      <td>0.544894</td>\n",
              "      <td>0.183051</td>\n",
              "      <td>0.162961</td>\n",
              "      <td>0.142429</td>\n",
              "      <td>0.077498</td>\n",
              "      <td>686.622488</td>\n",
              "      <td>1560.256377</td>\n",
              "      <td>1937.211452</td>\n",
              "    </tr>\n",
              "    <tr>\n",
              "      <th>min</th>\n",
              "      <td>1.000000</td>\n",
              "      <td>1.000000</td>\n",
              "      <td>0.000000</td>\n",
              "      <td>1.000000</td>\n",
              "      <td>0.000000</td>\n",
              "      <td>0.000000</td>\n",
              "      <td>0.000000</td>\n",
              "      <td>1.000000</td>\n",
              "      <td>0.059130</td>\n",
              "      <td>0.079070</td>\n",
              "      <td>0.000000</td>\n",
              "      <td>0.022392</td>\n",
              "      <td>2.000000</td>\n",
              "      <td>20.000000</td>\n",
              "      <td>22.000000</td>\n",
              "    </tr>\n",
              "    <tr>\n",
              "      <th>25%</th>\n",
              "      <td>183.500000</td>\n",
              "      <td>2.000000</td>\n",
              "      <td>0.000000</td>\n",
              "      <td>4.000000</td>\n",
              "      <td>0.000000</td>\n",
              "      <td>1.000000</td>\n",
              "      <td>0.000000</td>\n",
              "      <td>1.000000</td>\n",
              "      <td>0.337083</td>\n",
              "      <td>0.337842</td>\n",
              "      <td>0.520000</td>\n",
              "      <td>0.134950</td>\n",
              "      <td>315.500000</td>\n",
              "      <td>2497.000000</td>\n",
              "      <td>3152.000000</td>\n",
              "    </tr>\n",
              "    <tr>\n",
              "      <th>50%</th>\n",
              "      <td>366.000000</td>\n",
              "      <td>3.000000</td>\n",
              "      <td>1.000000</td>\n",
              "      <td>7.000000</td>\n",
              "      <td>0.000000</td>\n",
              "      <td>3.000000</td>\n",
              "      <td>1.000000</td>\n",
              "      <td>1.000000</td>\n",
              "      <td>0.498333</td>\n",
              "      <td>0.486733</td>\n",
              "      <td>0.626667</td>\n",
              "      <td>0.180975</td>\n",
              "      <td>713.000000</td>\n",
              "      <td>3662.000000</td>\n",
              "      <td>4548.000000</td>\n",
              "    </tr>\n",
              "    <tr>\n",
              "      <th>75%</th>\n",
              "      <td>548.500000</td>\n",
              "      <td>3.000000</td>\n",
              "      <td>1.000000</td>\n",
              "      <td>10.000000</td>\n",
              "      <td>0.000000</td>\n",
              "      <td>5.000000</td>\n",
              "      <td>1.000000</td>\n",
              "      <td>2.000000</td>\n",
              "      <td>0.655417</td>\n",
              "      <td>0.608602</td>\n",
              "      <td>0.730209</td>\n",
              "      <td>0.233214</td>\n",
              "      <td>1096.000000</td>\n",
              "      <td>4776.500000</td>\n",
              "      <td>5956.000000</td>\n",
              "    </tr>\n",
              "    <tr>\n",
              "      <th>max</th>\n",
              "      <td>731.000000</td>\n",
              "      <td>4.000000</td>\n",
              "      <td>1.000000</td>\n",
              "      <td>12.000000</td>\n",
              "      <td>1.000000</td>\n",
              "      <td>6.000000</td>\n",
              "      <td>1.000000</td>\n",
              "      <td>3.000000</td>\n",
              "      <td>0.861667</td>\n",
              "      <td>0.840896</td>\n",
              "      <td>0.972500</td>\n",
              "      <td>0.507463</td>\n",
              "      <td>3410.000000</td>\n",
              "      <td>6946.000000</td>\n",
              "      <td>8714.000000</td>\n",
              "    </tr>\n",
              "  </tbody>\n",
              "</table>\n",
              "</div>"
            ],
            "text/plain": [
              "          instant      season          yr        mnth     holiday     weekday  \\\n",
              "count  731.000000  731.000000  731.000000  731.000000  731.000000  731.000000   \n",
              "mean   366.000000    2.496580    0.500684    6.519836    0.028728    2.997264   \n",
              "std    211.165812    1.110807    0.500342    3.451913    0.167155    2.004787   \n",
              "min      1.000000    1.000000    0.000000    1.000000    0.000000    0.000000   \n",
              "25%    183.500000    2.000000    0.000000    4.000000    0.000000    1.000000   \n",
              "50%    366.000000    3.000000    1.000000    7.000000    0.000000    3.000000   \n",
              "75%    548.500000    3.000000    1.000000   10.000000    0.000000    5.000000   \n",
              "max    731.000000    4.000000    1.000000   12.000000    1.000000    6.000000   \n",
              "\n",
              "       workingday  weathersit        temp       atemp         hum   windspeed  \\\n",
              "count  731.000000  731.000000  731.000000  731.000000  731.000000  731.000000   \n",
              "mean     0.683995    1.395349    0.495385    0.474354    0.627894    0.190486   \n",
              "std      0.465233    0.544894    0.183051    0.162961    0.142429    0.077498   \n",
              "min      0.000000    1.000000    0.059130    0.079070    0.000000    0.022392   \n",
              "25%      0.000000    1.000000    0.337083    0.337842    0.520000    0.134950   \n",
              "50%      1.000000    1.000000    0.498333    0.486733    0.626667    0.180975   \n",
              "75%      1.000000    2.000000    0.655417    0.608602    0.730209    0.233214   \n",
              "max      1.000000    3.000000    0.861667    0.840896    0.972500    0.507463   \n",
              "\n",
              "            casual   registered          cnt  \n",
              "count   731.000000   731.000000   731.000000  \n",
              "mean    848.176471  3656.172367  4504.348837  \n",
              "std     686.622488  1560.256377  1937.211452  \n",
              "min       2.000000    20.000000    22.000000  \n",
              "25%     315.500000  2497.000000  3152.000000  \n",
              "50%     713.000000  3662.000000  4548.000000  \n",
              "75%    1096.000000  4776.500000  5956.000000  \n",
              "max    3410.000000  6946.000000  8714.000000  "
            ]
          },
          "execution_count": 9,
          "metadata": {},
          "output_type": "execute_result"
        }
      ],
      "source": [
        "# MENILAI DATA DAY\n",
        "day.duplicated().sum()\n",
        "day.isnull().sum()\n",
        "day.info()\n",
        "day.describe()"
      ]
    },
    {
      "cell_type": "markdown",
      "metadata": {
        "id": "7dtxhAPrkhPL"
      },
      "source": [
        "**Insight:**\n",
        "- 0 data duplikat\n",
        "- 0 data missing value\n",
        "- kolom \"dteday\" harus bertipe time-series bukan object\n",
        "- kolom \"holiday\" pada baris maks, harus bernilai 0 bukan 1\n",
        "- kolom \"casual\", terdapat outlier data"
      ]
    },
    {
      "cell_type": "code",
      "execution_count": 10,
      "metadata": {},
      "outputs": [
        {
          "name": "stdout",
          "output_type": "stream",
          "text": [
            "<class 'pandas.core.frame.DataFrame'>\n",
            "RangeIndex: 17379 entries, 0 to 17378\n",
            "Data columns (total 17 columns):\n",
            " #   Column      Non-Null Count  Dtype  \n",
            "---  ------      --------------  -----  \n",
            " 0   instant     17379 non-null  int64  \n",
            " 1   dteday      17379 non-null  object \n",
            " 2   season      17379 non-null  int64  \n",
            " 3   yr          17379 non-null  int64  \n",
            " 4   mnth        17379 non-null  int64  \n",
            " 5   hr          17379 non-null  int64  \n",
            " 6   holiday     17379 non-null  int64  \n",
            " 7   weekday     17379 non-null  int64  \n",
            " 8   workingday  17379 non-null  int64  \n",
            " 9   weathersit  17379 non-null  int64  \n",
            " 10  temp        17379 non-null  float64\n",
            " 11  atemp       17379 non-null  float64\n",
            " 12  hum         17379 non-null  float64\n",
            " 13  windspeed   17379 non-null  float64\n",
            " 14  casual      17379 non-null  int64  \n",
            " 15  registered  17379 non-null  int64  \n",
            " 16  cnt         17379 non-null  int64  \n",
            "dtypes: float64(4), int64(12), object(1)\n",
            "memory usage: 2.3+ MB\n"
          ]
        },
        {
          "data": {
            "text/html": [
              "<div>\n",
              "<style scoped>\n",
              "    .dataframe tbody tr th:only-of-type {\n",
              "        vertical-align: middle;\n",
              "    }\n",
              "\n",
              "    .dataframe tbody tr th {\n",
              "        vertical-align: top;\n",
              "    }\n",
              "\n",
              "    .dataframe thead th {\n",
              "        text-align: right;\n",
              "    }\n",
              "</style>\n",
              "<table border=\"1\" class=\"dataframe\">\n",
              "  <thead>\n",
              "    <tr style=\"text-align: right;\">\n",
              "      <th></th>\n",
              "      <th>instant</th>\n",
              "      <th>season</th>\n",
              "      <th>yr</th>\n",
              "      <th>mnth</th>\n",
              "      <th>hr</th>\n",
              "      <th>holiday</th>\n",
              "      <th>weekday</th>\n",
              "      <th>workingday</th>\n",
              "      <th>weathersit</th>\n",
              "      <th>temp</th>\n",
              "      <th>atemp</th>\n",
              "      <th>hum</th>\n",
              "      <th>windspeed</th>\n",
              "      <th>casual</th>\n",
              "      <th>registered</th>\n",
              "      <th>cnt</th>\n",
              "    </tr>\n",
              "  </thead>\n",
              "  <tbody>\n",
              "    <tr>\n",
              "      <th>count</th>\n",
              "      <td>17379.0000</td>\n",
              "      <td>17379.000000</td>\n",
              "      <td>17379.000000</td>\n",
              "      <td>17379.000000</td>\n",
              "      <td>17379.000000</td>\n",
              "      <td>17379.000000</td>\n",
              "      <td>17379.000000</td>\n",
              "      <td>17379.000000</td>\n",
              "      <td>17379.000000</td>\n",
              "      <td>17379.000000</td>\n",
              "      <td>17379.000000</td>\n",
              "      <td>17379.000000</td>\n",
              "      <td>17379.000000</td>\n",
              "      <td>17379.000000</td>\n",
              "      <td>17379.000000</td>\n",
              "      <td>17379.000000</td>\n",
              "    </tr>\n",
              "    <tr>\n",
              "      <th>mean</th>\n",
              "      <td>8690.0000</td>\n",
              "      <td>2.501640</td>\n",
              "      <td>0.502561</td>\n",
              "      <td>6.537775</td>\n",
              "      <td>11.546752</td>\n",
              "      <td>0.028770</td>\n",
              "      <td>3.003683</td>\n",
              "      <td>0.682721</td>\n",
              "      <td>1.425283</td>\n",
              "      <td>0.496987</td>\n",
              "      <td>0.475775</td>\n",
              "      <td>0.627229</td>\n",
              "      <td>0.190098</td>\n",
              "      <td>35.676218</td>\n",
              "      <td>153.786869</td>\n",
              "      <td>189.463088</td>\n",
              "    </tr>\n",
              "    <tr>\n",
              "      <th>std</th>\n",
              "      <td>5017.0295</td>\n",
              "      <td>1.106918</td>\n",
              "      <td>0.500008</td>\n",
              "      <td>3.438776</td>\n",
              "      <td>6.914405</td>\n",
              "      <td>0.167165</td>\n",
              "      <td>2.005771</td>\n",
              "      <td>0.465431</td>\n",
              "      <td>0.639357</td>\n",
              "      <td>0.192556</td>\n",
              "      <td>0.171850</td>\n",
              "      <td>0.192930</td>\n",
              "      <td>0.122340</td>\n",
              "      <td>49.305030</td>\n",
              "      <td>151.357286</td>\n",
              "      <td>181.387599</td>\n",
              "    </tr>\n",
              "    <tr>\n",
              "      <th>min</th>\n",
              "      <td>1.0000</td>\n",
              "      <td>1.000000</td>\n",
              "      <td>0.000000</td>\n",
              "      <td>1.000000</td>\n",
              "      <td>0.000000</td>\n",
              "      <td>0.000000</td>\n",
              "      <td>0.000000</td>\n",
              "      <td>0.000000</td>\n",
              "      <td>1.000000</td>\n",
              "      <td>0.020000</td>\n",
              "      <td>0.000000</td>\n",
              "      <td>0.000000</td>\n",
              "      <td>0.000000</td>\n",
              "      <td>0.000000</td>\n",
              "      <td>0.000000</td>\n",
              "      <td>1.000000</td>\n",
              "    </tr>\n",
              "    <tr>\n",
              "      <th>25%</th>\n",
              "      <td>4345.5000</td>\n",
              "      <td>2.000000</td>\n",
              "      <td>0.000000</td>\n",
              "      <td>4.000000</td>\n",
              "      <td>6.000000</td>\n",
              "      <td>0.000000</td>\n",
              "      <td>1.000000</td>\n",
              "      <td>0.000000</td>\n",
              "      <td>1.000000</td>\n",
              "      <td>0.340000</td>\n",
              "      <td>0.333300</td>\n",
              "      <td>0.480000</td>\n",
              "      <td>0.104500</td>\n",
              "      <td>4.000000</td>\n",
              "      <td>34.000000</td>\n",
              "      <td>40.000000</td>\n",
              "    </tr>\n",
              "    <tr>\n",
              "      <th>50%</th>\n",
              "      <td>8690.0000</td>\n",
              "      <td>3.000000</td>\n",
              "      <td>1.000000</td>\n",
              "      <td>7.000000</td>\n",
              "      <td>12.000000</td>\n",
              "      <td>0.000000</td>\n",
              "      <td>3.000000</td>\n",
              "      <td>1.000000</td>\n",
              "      <td>1.000000</td>\n",
              "      <td>0.500000</td>\n",
              "      <td>0.484800</td>\n",
              "      <td>0.630000</td>\n",
              "      <td>0.194000</td>\n",
              "      <td>17.000000</td>\n",
              "      <td>115.000000</td>\n",
              "      <td>142.000000</td>\n",
              "    </tr>\n",
              "    <tr>\n",
              "      <th>75%</th>\n",
              "      <td>13034.5000</td>\n",
              "      <td>3.000000</td>\n",
              "      <td>1.000000</td>\n",
              "      <td>10.000000</td>\n",
              "      <td>18.000000</td>\n",
              "      <td>0.000000</td>\n",
              "      <td>5.000000</td>\n",
              "      <td>1.000000</td>\n",
              "      <td>2.000000</td>\n",
              "      <td>0.660000</td>\n",
              "      <td>0.621200</td>\n",
              "      <td>0.780000</td>\n",
              "      <td>0.253700</td>\n",
              "      <td>48.000000</td>\n",
              "      <td>220.000000</td>\n",
              "      <td>281.000000</td>\n",
              "    </tr>\n",
              "    <tr>\n",
              "      <th>max</th>\n",
              "      <td>17379.0000</td>\n",
              "      <td>4.000000</td>\n",
              "      <td>1.000000</td>\n",
              "      <td>12.000000</td>\n",
              "      <td>23.000000</td>\n",
              "      <td>1.000000</td>\n",
              "      <td>6.000000</td>\n",
              "      <td>1.000000</td>\n",
              "      <td>4.000000</td>\n",
              "      <td>1.000000</td>\n",
              "      <td>1.000000</td>\n",
              "      <td>1.000000</td>\n",
              "      <td>0.850700</td>\n",
              "      <td>367.000000</td>\n",
              "      <td>886.000000</td>\n",
              "      <td>977.000000</td>\n",
              "    </tr>\n",
              "  </tbody>\n",
              "</table>\n",
              "</div>"
            ],
            "text/plain": [
              "          instant        season            yr          mnth            hr  \\\n",
              "count  17379.0000  17379.000000  17379.000000  17379.000000  17379.000000   \n",
              "mean    8690.0000      2.501640      0.502561      6.537775     11.546752   \n",
              "std     5017.0295      1.106918      0.500008      3.438776      6.914405   \n",
              "min        1.0000      1.000000      0.000000      1.000000      0.000000   \n",
              "25%     4345.5000      2.000000      0.000000      4.000000      6.000000   \n",
              "50%     8690.0000      3.000000      1.000000      7.000000     12.000000   \n",
              "75%    13034.5000      3.000000      1.000000     10.000000     18.000000   \n",
              "max    17379.0000      4.000000      1.000000     12.000000     23.000000   \n",
              "\n",
              "            holiday       weekday    workingday    weathersit          temp  \\\n",
              "count  17379.000000  17379.000000  17379.000000  17379.000000  17379.000000   \n",
              "mean       0.028770      3.003683      0.682721      1.425283      0.496987   \n",
              "std        0.167165      2.005771      0.465431      0.639357      0.192556   \n",
              "min        0.000000      0.000000      0.000000      1.000000      0.020000   \n",
              "25%        0.000000      1.000000      0.000000      1.000000      0.340000   \n",
              "50%        0.000000      3.000000      1.000000      1.000000      0.500000   \n",
              "75%        0.000000      5.000000      1.000000      2.000000      0.660000   \n",
              "max        1.000000      6.000000      1.000000      4.000000      1.000000   \n",
              "\n",
              "              atemp           hum     windspeed        casual    registered  \\\n",
              "count  17379.000000  17379.000000  17379.000000  17379.000000  17379.000000   \n",
              "mean       0.475775      0.627229      0.190098     35.676218    153.786869   \n",
              "std        0.171850      0.192930      0.122340     49.305030    151.357286   \n",
              "min        0.000000      0.000000      0.000000      0.000000      0.000000   \n",
              "25%        0.333300      0.480000      0.104500      4.000000     34.000000   \n",
              "50%        0.484800      0.630000      0.194000     17.000000    115.000000   \n",
              "75%        0.621200      0.780000      0.253700     48.000000    220.000000   \n",
              "max        1.000000      1.000000      0.850700    367.000000    886.000000   \n",
              "\n",
              "                cnt  \n",
              "count  17379.000000  \n",
              "mean     189.463088  \n",
              "std      181.387599  \n",
              "min        1.000000  \n",
              "25%       40.000000  \n",
              "50%      142.000000  \n",
              "75%      281.000000  \n",
              "max      977.000000  "
            ]
          },
          "execution_count": 10,
          "metadata": {},
          "output_type": "execute_result"
        }
      ],
      "source": [
        "# MENILAI DATA HOUR\n",
        "hour.duplicated().sum()\n",
        "hour.isnull().sum()\n",
        "hour.info()\n",
        "hour.describe()"
      ]
    },
    {
      "cell_type": "markdown",
      "metadata": {},
      "source": [
        "**Insight:**\n",
        "- 0 data duplikat\n",
        "- 0 data missing value\n",
        "- kolom \"dteday\" harus bertipe time-series bukan object\n",
        "- kolom \"holiday\" pada baris max bernilai 1, seharusnya bernilai 0\n",
        "- kolom \"casual\", terdapat outlier data\n",
        "- kolom \"registered\", terdapat outlier data"
      ]
    },
    {
      "cell_type": "markdown",
      "metadata": {
        "id": "EhN5R4hr8DC1"
      },
      "source": [
        "### Cleaning Data"
      ]
    },
    {
      "cell_type": "code",
      "execution_count": 11,
      "metadata": {
        "id": "jVnYpprE9Evz"
      },
      "outputs": [
        {
          "name": "stderr",
          "output_type": "stream",
          "text": [
            "C:\\Users\\dell\\AppData\\Local\\Temp\\ipykernel_12628\\1904065561.py:7: FutureWarning: A value is trying to be set on a copy of a DataFrame or Series through chained assignment using an inplace method.\n",
            "The behavior will change in pandas 3.0. This inplace method will never work because the intermediate object on which we are setting values always behaves as a copy.\n",
            "\n",
            "For example, when doing 'df[col].method(value, inplace=True)', try using 'df.method({col: value}, inplace=True)' or df[col] = df[col].method(value) instead, to perform the operation inplace on the original object.\n",
            "\n",
            "\n",
            "  day.holiday.replace(1, 0, inplace=True)\n"
          ]
        }
      ],
      "source": [
        "# CLEANING DATA DAY\n",
        "\n",
        "''' Mengatasi tipe data pada kolom dteday'''\n",
        "day[\"dteday\"] = pd.to_datetime(day[\"dteday\"])\n",
        "\n",
        "''' Mengatasi invalid value pada kolom holiday'''\n",
        "day.holiday.replace(1, 0, inplace=True)\n",
        "\n",
        "''' Mengatasi outlier data pada kolom casual'''\n",
        "Q1_casual_day = np.percentile(day[\"casual\"], 25)\n",
        "Q3_casual_day = np.percentile(day[\"casual\"], 75)\n",
        "IQR_casual_day = Q3_casual_day - Q1_casual_day\n",
        "minimum_casual_day, maximum_casual_day = Q1_casual_day - (1.5 * IQR_casual_day), Q3_casual_day + (1.5 * IQR_casual_day)\n",
        "kondisi_bawah_day = day[\"casual\"] < minimum_casual_day\n",
        "kondisi_atas_day = day[\"casual\"] > maximum_casual_day\n",
        "day.drop(day[kondisi_bawah_day].index, inplace=True)\n",
        "day.drop(day[kondisi_atas_day].index, inplace=True)\n",
        "\n"
      ]
    },
    {
      "cell_type": "markdown",
      "metadata": {},
      "source": [
        "**Insight:**\n",
        "- Mengubah tipe data \"objek\" menjadi \"time-series\" pada kolom dteday\n",
        "- Mengubah kesalahan input data bernilai 1 menjadi 0\n",
        "- Menghapus baris data yang termasuk ke dalam kategori \"outlier data\" pada kolom casual"
      ]
    },
    {
      "cell_type": "code",
      "execution_count": 12,
      "metadata": {},
      "outputs": [
        {
          "name": "stderr",
          "output_type": "stream",
          "text": [
            "C:\\Users\\dell\\AppData\\Local\\Temp\\ipykernel_12628\\3754666670.py:7: FutureWarning: A value is trying to be set on a copy of a DataFrame or Series through chained assignment using an inplace method.\n",
            "The behavior will change in pandas 3.0. This inplace method will never work because the intermediate object on which we are setting values always behaves as a copy.\n",
            "\n",
            "For example, when doing 'df[col].method(value, inplace=True)', try using 'df.method({col: value}, inplace=True)' or df[col] = df[col].method(value) instead, to perform the operation inplace on the original object.\n",
            "\n",
            "\n",
            "  hour.holiday.replace(1, 0, inplace=True)\n"
          ]
        }
      ],
      "source": [
        "# CLEANING DATA HOUR\n",
        "\n",
        "''' Mengatasi tipe data pada kolom dteday'''\n",
        "hour[\"dteday\"] = pd.to_datetime(hour[\"dteday\"])\n",
        "\n",
        "''' Mengatasi invalid value pada kolom holiday'''\n",
        "hour.holiday.replace(1, 0, inplace=True)\n",
        "\n",
        "'''Mengatasi outlier data pada kolom casual'''\n",
        "Q1_casual_hour = np.percentile(hour[\"casual\"], 25)\n",
        "Q3_casual_hour = np.percentile(hour[\"casual\"], 75)\n",
        "IQR_casual_hour = Q3_casual_hour - Q1_casual_hour\n",
        "minimum_casual_hour, maximum_casual_hour = Q1_casual_hour - (1.5 * IQR_casual_hour), Q3_casual_hour + (1.5 * IQR_casual_hour)\n",
        "kondisi_bawah_casual_hour = hour[\"casual\"] < minimum_casual_hour\n",
        "kondisi_atas_casual_hour = hour[\"casual\"] > maximum_casual_hour\n",
        "hour.drop(hour[kondisi_bawah_casual_hour].index, inplace=True)\n",
        "hour.drop(hour[kondisi_atas_casual_hour].index, inplace=True)\n",
        "\n",
        "''' Mengatasi outlier data pada kolom registered'''\n",
        "Q1_registered_hour = np.percentile(hour[\"registered\"], 25)\n",
        "Q3_registered_hour = np.percentile(hour[\"registered\"], 75)\n",
        "IQR_registered_hour = Q3_registered_hour - Q1_registered_hour\n",
        "minimum_registered_hour, maximum_registered_hour = Q1_registered_hour - (1.5*IQR_registered_hour), Q3_registered_hour + (1.5 * IQR_registered_hour)\n",
        "kondisi_bawah_registered_hour = hour[\"registered\"] < minimum_registered_hour\n",
        "kondisi_atas_registered_hour = hour[\"registered\"] > maximum_registered_hour\n",
        "hour.drop(hour[kondisi_bawah_registered_hour].index, inplace=True)\n",
        "hour.drop(hour[kondisi_atas_registered_hour].index, inplace=True)"
      ]
    },
    {
      "cell_type": "markdown",
      "metadata": {
        "id": "Q_5ejIqckiSP"
      },
      "source": [
        "**Insight:**\n",
        "- Mengubah tipe data \"objek\" menjadi \"time-series\" pada kolom dteday\n",
        "- Mengubah kesalahan input data bernilai 1 menjadi 0\n",
        "- Menghapus seluruh baris yang mengandung data outlier pada kolom \"casual\"\n",
        "- Menghapus seluruh baris yang mengandung data outlier pada kolom registered"
      ]
    },
    {
      "cell_type": "markdown",
      "metadata": {
        "id": "gp-Y6wU38DC1"
      },
      "source": [
        "## Exploratory Data Analysis (EDA)"
      ]
    },
    {
      "cell_type": "markdown",
      "metadata": {
        "id": "MW7WF2kr8DC1"
      },
      "source": [
        "### Explore Data \"Day\""
      ]
    },
    {
      "cell_type": "code",
      "execution_count": 13,
      "metadata": {},
      "outputs": [],
      "source": [
        "''' Mengubah numerik pada season menjadi object'''\n",
        "season = [\"Springer\", \"Summer\", \"Fall\", \"Winter\"]\n",
        "for i in range (4):\n",
        "    day[\"season\"] = day[\"season\"].replace(i+1, season[i])\n",
        "\n",
        "\n",
        "''' Memfilter dataset day sehingga mendapatkan data tahun 2011 dan 2012'''\n",
        "in_2011 = day[day[\"yr\"] == 0]\n",
        "in_2012 = day[day[\"yr\"] == 1]\n",
        "\n",
        "\n",
        "''' Mendapatkan jumlah penyewaan setiap musim selama tahun 2011 - 2012'''\n",
        "pivot_by_season_2011 = in_2011.groupby(by=\"season\").agg({\n",
        "    \"cnt\" : \"sum\"\n",
        "})\n",
        "pivot_by_season_2012 = in_2012.groupby(by=\"season\").agg({\n",
        "    \"cnt\" : \"sum\"\n",
        "})\n",
        "\n",
        "\n",
        "''' Mendapatkan jumlah rental casual vs registered untuk tiap bulan dan mengubah numerik bulan menjadi objek'''\n",
        "pivot_2012 = in_2012.groupby(by=\"mnth\").agg({\n",
        "    \"casual\" : \"sum\",\n",
        "    \"registered\" : \"sum\"\n",
        "})\n",
        "pivot_2012.index = pivot_2012.index.map({\n",
        "    1: \"January\", 2: \"February\", 3: \"March\", 4: \"April\",\n",
        "    5: \"May\", 6: \"June\", 7: \"July\", 8: \"August\",\n",
        "    9: \"September\", 10: \"Oktober\", 11: \"November\", 12: \"December\" \n",
        "})\n",
        "\n",
        "by_month = in_2011.groupby(by=\"mnth\").agg({\n",
        "    \"cnt\" : \"sum\"\n",
        "})\n",
        "\n"
      ]
    },
    {
      "cell_type": "markdown",
      "metadata": {
        "id": "th_Lzl2Fkj9O"
      },
      "source": [
        "**Insight:**\n",
        "1. Memfilter data 2011 dan 2012 lalu membuat pivot table berdasarkan \"season\" untuk tahun 2011 dan 2012 untuk menjawab pertanyaan 1\n",
        "2. Membuat pivot table berdasarkan \"mnth\" untuk mendapatkan data casual dan registered untuk menjawab pertanyaan 2"
      ]
    },
    {
      "cell_type": "markdown",
      "metadata": {},
      "source": [
        "### Explore Data \"hour\""
      ]
    },
    {
      "cell_type": "code",
      "execution_count": 14,
      "metadata": {},
      "outputs": [],
      "source": [
        "''' Membuat kategori baru'''\n",
        "def category(hour):\n",
        "    if 0 <= hour <= 5:\n",
        "        return \"Early Days\"\n",
        "    elif 6 <= hour <= 10:\n",
        "        return \"Morning\"\n",
        "    elif 11 <= hour <= 14:\n",
        "        return \"Midday\"\n",
        "    elif 15 <= hour <= 18:\n",
        "        return \"Afternoon\"\n",
        "    else:\n",
        "        return \"Evening\"\n",
        "hour[\"time_of_day\"] = hour[\"hr\"].apply(category)\n",
        "\n",
        "\n",
        "''' Memfilter untuk 3 bulan terakhir'''\n",
        "oktober_2012 = hour.loc[(hour[\"yr\"] == 1) & (hour[\"mnth\"] == 10)]\n",
        "november_2012 = hour.loc[(hour[\"yr\"] == 1) & (hour[\"mnth\"] == 11)]\n",
        "desember_2012 = hour.loc[(hour[\"yr\"] == 1) & (hour[\"mnth\"] == 12)]\n",
        "\n",
        "pivot_oktober_2012 = oktober_2012.groupby(by=\"time_of_day\").agg({\n",
        "    \"cnt\" : \"sum\"\n",
        "})\n",
        "\n",
        "pivot_november_2012 = november_2012.groupby(by=\"time_of_day\").agg({\n",
        "    \"cnt\" : \"sum\"\n",
        "})\n",
        "pivot_desember_2012 = desember_2012.groupby(by=\"time_of_day\").agg({\n",
        "    \"cnt\" : \"sum\"\n",
        "})\n",
        "\n"
      ]
    },
    {
      "cell_type": "markdown",
      "metadata": {},
      "source": [
        "**Insight:**\n",
        "- Kita memperoleh data tahun 2012 dan bulan terakhir pada dataset \"hour\" dan mengkategorikan jam tertentu sebagai dini hari, pagi hari, siang hari, sore hari, dan malam hari untuk menjawab pertanyaan 3"
      ]
    },
    {
      "cell_type": "markdown",
      "metadata": {
        "id": "zsyZjqak8DC2"
      },
      "source": [
        "## Visualization & Explanatory Analysis"
      ]
    },
    {
      "cell_type": "markdown",
      "metadata": {
        "id": "HZxOiQ6n8DC2"
      },
      "source": [
        "### Pertanyaan 1: Bagaimana jumlah penyewaan sepeda berubah pada setiap musim selama tahun 2011 - 2012?"
      ]
    },
    {
      "cell_type": "code",
      "execution_count": 15,
      "metadata": {},
      "outputs": [
        {
          "data": {
            "image/png": "[encoded data removed]",
            "text/plain": [
              "<Figure size 640x480 with 1 Axes>"
            ]
          },
          "metadata": {},
          "output_type": "display_data"
        }
      ],
      "source": [
        "# Musim pada tahun 2011\n",
        "cnt_2011 = []\n",
        "for i in range(4):\n",
        "    total_cnt_2011 = pivot_by_season_2011.iloc[i, 0]\n",
        "    cnt_2011.append(total_cnt_2011)\n",
        "\n",
        "# Musim pada tahun 2012\n",
        "cnt_2012 = []\n",
        "for i in range (4):\n",
        "    total_cnt_2012 = pivot_by_season_2012.iloc[i, 0]\n",
        "    cnt_2012.append(total_cnt_2012)\n",
        "\n",
        "# Plot grafik\n",
        "x = np.arange(len(season))\n",
        "width = 0.4\n",
        "plt.bar(x - width/2, cnt_2011, width=width, label=\"2011\")\n",
        "plt.bar(x + width/2, cnt_2012, width=width, label=\"2012\")\n",
        "plt.xticks(x, season)\n",
        "plt.legend()\n",
        "plt.title(\"Total rentals every season in 2011 - 2012\")\n",
        "plt.show()"
      ]
    },
    {
      "cell_type": "markdown",
      "metadata": {
        "id": "DgHI7CiU8DC2"
      },
      "source": [
        "### Pertanyaan 2: Bagaimana perbedaan pola penyewaan sepeda antara pengguna casual dan registered setiap bulan selama tahun 2012, dan strategi apa yang dirancang berdasarkan perbedaan pola tersebut?"
      ]
    },
    {
      "cell_type": "code",
      "execution_count": 16,
      "metadata": {},
      "outputs": [
        {
          "data": {
            "image/png": "[encoded data removed]",
            "text/plain": [
              "<Figure size 640x480 with 1 Axes>"
            ]
          },
          "metadata": {},
          "output_type": "display_data"
        }
      ],
      "source": [
        "casual = []\n",
        "registered = []\n",
        "month = pivot_2012.index.values\n",
        "for i in range(12):\n",
        "    total_casual = pivot_2012.iloc[i, 0]\n",
        "    total_registered = pivot_2012.iloc[i, 1]\n",
        "    casual.append(total_casual)\n",
        "    registered.append(total_registered)\n",
        "x = np.arange(len(month))\n",
        "width = 0.4\n",
        "plt.bar(x - width/2, casual, width=width, label=\"Casual\")\n",
        "plt.bar(x + width/2, registered, width=width, label=\"Registered\")\n",
        "plt.xticks(x, month, rotation=45)\n",
        "plt.legend()\n",
        "plt.title(\"Total rentals for Casual vs Registered every month in 2012\")\n",
        "plt.show()"
      ]
    },
    {
      "cell_type": "markdown",
      "metadata": {},
      "source": [
        "### Pertanyaan 3: Bagaimana pola penyewaan sepeda terhadap periode waktu selama tiga bulan terakhir, dan periode waktu manakah yang konsisten menunjukkan permintaan tertinggi?"
      ]
    },
    {
      "cell_type": "code",
      "execution_count": 17,
      "metadata": {},
      "outputs": [
        {
          "data": {
            "image/png": "[encoded data removed]",
            "text/plain": [
              "<Figure size 640x480 with 1 Axes>"
            ]
          },
          "metadata": {},
          "output_type": "display_data"
        }
      ],
      "source": [
        "time_of_day = pivot_oktober_2012.index.values\n",
        "cnt_oktober_2012 = []\n",
        "cnt_november_2012 = []\n",
        "cnt_desember_2012 = []\n",
        "for i in range(5):\n",
        "    total_cnt_oktober = pivot_oktober_2012.iloc[i, 0]\n",
        "    total_cnt_november = pivot_november_2012.iloc[i, 0]\n",
        "    total_cnt_desember = pivot_desember_2012.iloc[i, 0]\n",
        "    cnt_oktober_2012.append(total_cnt_oktober)\n",
        "    cnt_november_2012.append(total_cnt_november)\n",
        "    cnt_desember_2012.append(total_cnt_desember)\n",
        "\n",
        "x = np.arange(len(time_of_day))\n",
        "width = 0.25\n",
        "plt.bar(x - width, cnt_oktober_2012, width=width, label=\"Oktober\")\n",
        "plt.bar(x, cnt_november_2012, width=width, label=\"November\")\n",
        "plt.bar(x + width, cnt_desember_2012, width=width, label=\"Desember\")\n",
        "plt.xticks(x, time_of_day)\n",
        "plt.legend()\n",
        "plt.title(\"Total rentals by time period in 3 months in 2012\")\n",
        "plt.show() "
      ]
    },
    {
      "cell_type": "markdown",
      "metadata": {
        "id": "_0-36BDLklRg"
      },
      "source": [
        "# Insight\n",
        "**Grafik 1 : Total rentals every season in 2011-2012**\n",
        "- Kenaikan signifikan dari 2011 ke 2012 di semua musim → tren bisnis sangat positif.\n",
        "\n",
        "- Springer (musim semi) jadi puncak tertinggi, bahkan melampaui Fall & Winter → kemungkinan pengaruh cuaca nyaman untuk bersepeda.\n",
        "\n",
        "- Summer (musim panas) tetap paling rendah meskipun meningkat → ini adalah titik lemah yang perlu diperhatikan.\n",
        "\n",
        "- Winter & Fall menunjukkan pertumbuhan sehat, cukup stabil mendukung revenue sepanjang tahun.\n",
        "\n",
        "**Grafik 2 : Total rentals for Casual Vs Registered every months in 2012**\n",
        "- Registered users mendominasi → menjadi pilar utama bisnis. Mereka konsisten tinggi di semua bulan, walaupun ada fluktuasi.\n",
        "\n",
        "- Casual users relatif kecil, tetapi terlihat meningkat di musim panas (Juli–Agustus) → kemungkinan dipengaruhi faktor liburan & wisata.\n",
        "\n",
        "- Registered puncak di Agustus–September → mendukung asumsi bahwa akhir musim panas & awal gugur adalah waktu paling sibuk.\n",
        "\n",
        "- Casual cenderung turun di akhir tahun (Nov–Des) → mungkin karena cuaca dingin & aktivitas outdoor berkurang.\n",
        "\n",
        "**Grafik 3 : Total rentals by time period in 3 months in 2012**\n",
        "- Evening memiliki jumlah penyewaan tertinggi dibanding periode waktu lainnya, terutama di bulan Oktober. Early Days (dini hari) konsisten menjadi periode dengan jumlah penyewaan paling rendah setiap bulan.\n",
        "\n",
        "- Oktober menonjol di periode Evening, paling tinggi dibanding bulan lain. November cenderung stabil di semua waktu (Afternoon, Evening, Morning) tapi lebih rendah di Midday. Desember tinggi di Afternoon dan Midday, tetapi rendah di Morning dan terutama di Evening (paling rendah di antara ketiga bulan).\n",
        "\n",
        "- Waktu favorit pengguna untuk rental adalah Evening dan Midday. Ada pergeseran tren: di Desember pengguna lebih banyak menyewa di Afternoon, sementara penggunaan Evening menurun dibanding Oktober–November. Aktivitas paling sepi selalu di Early Days, tanpa banyak variasi."
      ]
    },
    {
      "cell_type": "markdown",
      "metadata": {},
      "source": [
        "# Penggabungan dataset menjadi all_df"
      ]
    },
    {
      "cell_type": "code",
      "execution_count": 18,
      "metadata": {},
      "outputs": [],
      "source": [
        "all_df = pd.merge(\n",
        "    left=hour,\n",
        "    right=day,\n",
        "    on='dteday',\n",
        "    how='left',\n",
        "    suffixes=('_hour', '_day') \n",
        ")"
      ]
    },
    {
      "cell_type": "markdown",
      "metadata": {
        "id": "_WeHlCeX8DC2"
      },
      "source": [
        "## Conclusion"
      ]
    },
    {
      "cell_type": "markdown",
      "metadata": {
        "id": "ZTcyR48Y8DC2"
      },
      "source": [
        "**Conclusion Pertanyaan 1**\n",
        "- Ada peningkatan minat pelangaan dari tahun ke tahun di semua musim\n",
        "- musim \"summer\" menjadi titik lemah tiap tahun dengan jumlah penyewaan paling sedikit yang berpotensi bermasalah pada perusahaan\n",
        "- Secara umum, perusahaan berada di jalur pertumbuhan sehat, namun perlu strategi khusus agar permintaan lebih merata sepanjang musim\n",
        "\n",
        "**Conclusion Pertanyaan 2**\n",
        "- Perusahaan sudah punya basis pelanggan setia (registered) yang kuat dan stabil, walaupun fluktuatif, sehingga ini bisa menjadi pilar utama bisnis\n",
        "- Casual punya kontribusi kecil tapi bisa menjadi peluang pertumbuhan, karena mereka berpotensi dikonversi menjadi pelanggan setia\n",
        "\n",
        "**Conclusion Pertanyaan 3**\n",
        "- Pola rental dipengaruhi oleh jam aktivitas masyarakat\n",
        "- Evening dan Midday adalah waktu paling sibuk untuk merental sepeda, perusahaan harus berfokus menyediakan sepeda maksimal di jam-jam ini\n",
        "- Desember mempunyai pola yang unik, rental pagi menurun, sedangkan rental sore naik. Kemungkinan pengaruh musim liburan"
      ]
    }
  ],
  "metadata": {
    "colab": {
      "provenance": []
    },
    "kernelspec": {
      "display_name": "Python 3",
      "language": "python",
      "name": "python3"
    },
    "language_info": {
      "codemirror_mode": {
        "name": "ipython",
        "version": 3
      },
      "file_extension": ".py",
      "mimetype": "text/x-python",
      "name": "python",
      "nbconvert_exporter": "python",
      "pygments_lexer": "ipython3",
      "version": "3.13.7"
    },
    "orig_nbformat": 4,
    "vscode": {
      "interpreter": {
        "hash": "972b3bf27e332e87b5379f2791f6ef9dfc79c71018c370b0d7423235e20fe4d7"
      }
    }
  },
  "nbformat": 4,
  "nbformat_minor": 0
}
